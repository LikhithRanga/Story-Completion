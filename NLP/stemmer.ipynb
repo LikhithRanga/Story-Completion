{
 "cells": [
  {
   "cell_type": "code",
   "execution_count": 1,
   "metadata": {},
   "outputs": [],
   "source": [
    "import nltk\n",
    "from nltk import PorterStemmer\n",
    "from nltk import SnowballStemmer\n",
    "from nltk import LancasterStemmer\n",
    "from nltk import RegexpChunkParser\n"
   ]
  },
  {
   "cell_type": "code",
   "execution_count": 4,
   "metadata": {},
   "outputs": [
    {
     "name": "stdout",
     "output_type": "stream",
     "text": [
      "Connects ---> connect\n",
      "Connecting ---> connect\n",
      "Connections ---> connect\n",
      "Connected ---> connect\n",
      "Connection ---> connect\n",
      "Connectings ---> connect\n",
      "Connect ---> connect\n"
     ]
    }
   ],
   "source": [
    "from nltk.stem import PorterStemmer\n",
    "porter = PorterStemmer()\n",
    "words = ['Connects','Connecting','Connections','Connected','Connection','Connectings','Connect']\n",
    "for word in words:\n",
    "    print(word,\"--->\",porter.stem(word))"
   ]
  },
  {
   "cell_type": "code",
   "execution_count": 5,
   "metadata": {},
   "outputs": [
    {
     "name": "stdout",
     "output_type": "stream",
     "text": [
      "generous ---> generous\n",
      "generate ---> generat\n",
      "generously ---> generous\n",
      "generation ---> generat\n"
     ]
    }
   ],
   "source": [
    "from nltk.stem import SnowballStemmer\n",
    "snowball = SnowballStemmer(language='english')\n",
    "words = ['generous','generate','generously','generation']\n",
    "for word in words:\n",
    "    print(word,\"--->\",snowball.stem(word))"
   ]
  },
  {
   "cell_type": "code",
   "execution_count": 6,
   "metadata": {},
   "outputs": [
    {
     "name": "stdout",
     "output_type": "stream",
     "text": [
      "eating ---> eat\n",
      "eats ---> eat\n",
      "eaten ---> eat\n",
      "puts ---> put\n",
      "putting ---> put\n"
     ]
    }
   ],
   "source": [
    "from nltk.stem import LancasterStemmer\n",
    "lancaster = LancasterStemmer()\n",
    "words = ['eating','eats','eaten','puts','putting']\n",
    "for word in words:\n",
    "    print(word,\"--->\",lancaster.stem(word))"
   ]
  },
  {
   "cell_type": "code",
   "execution_count": 7,
   "metadata": {},
   "outputs": [
    {
     "name": "stdout",
     "output_type": "stream",
     "text": [
      "mass ---> mas\n",
      "was ---> was\n",
      "bee ---> bee\n",
      "computer ---> computer\n",
      "advisable ---> advis\n"
     ]
    }
   ],
   "source": [
    "from nltk.stem import RegexpStemmer\n",
    "regexp = RegexpStemmer('ing$|s$|e$|able$', min=4)\n",
    "words = ['mass','was','bee','computer','advisable']\n",
    "for word in words:\n",
    "    print(word,\"--->\",regexp.stem(word))"
   ]
  },
  {
   "cell_type": "code",
   "execution_count": 8,
   "metadata": {},
   "outputs": [
    {
     "name": "stdout",
     "output_type": "stream",
     "text": [
      "Word                Porter Stemmer      Snowball Stemmer    Lancaster Stemmer             Regexp Stemmer                          \n",
      "friend              friend              friend              friend                        friend                                  \n",
      "friendship          friendship          friendship          friend                        friendship                              \n",
      "friends             friend              friend              friend                        friend                                  \n",
      "friendships         friendship          friendship          friend                        friendship                              \n"
     ]
    }
   ],
   "source": [
    "from nltk.stem import PorterStemmer, SnowballStemmer, LancasterStemmer, RegexpStemmer\n",
    "porter = PorterStemmer()\n",
    "lancaster = LancasterStemmer()\n",
    "snowball = SnowballStemmer(language='english')\n",
    "regexp = RegexpStemmer('ing$|s$|e$|able$', min=4)\n",
    "word_list = [\"friend\", \"friendship\", \"friends\", \"friendships\"]\n",
    "print(\"{0:20}{1:20}{2:20}{3:30}{4:40}\".format(\"Word\",\"Porter Stemmer\",\"Snowball Stemmer\",\"Lancaster Stemmer\",'Regexp Stemmer'))\n",
    "for word in word_list:\n",
    "    print(\"{0:20}{1:20}{2:20}{3:30}{4:40}\".format(word,porter.stem(word),snowball.stem(word),lancaster.stem(word),regexp.stem(word)))"
   ]
  },
  {
   "cell_type": "code",
   "execution_count": 15,
   "metadata": {},
   "outputs": [
    {
     "name": "stdout",
     "output_type": "stream",
     "text": [
      "essay+on+republ+day+â€+“+india+celebr+republ+day+on+januari+26+annual+with+a+lot+of+pride+and+fervor+.+it+is+a+day+that+is+import+to+everi+indian+citizen+.+it+mark+the+day+when+india+becam+truli+independ+and+embrac+democraci+.+in+other+word+,+it+celebr+the+day+on+which+our+constitut+came+into+effect+.+on+26+januari+1950+,+almost+3+year+post-independ+,+we+becam+a+sovereign+,+secular+,+socialist+,+democrat+republ+.+histori+of+republ+day+while+we+got+independ+from+british+rule+on+august+15+,+1947+,+our+countri+was+still+lack+a+concret+constitut+.+moreov+,+india+also+did+not+have+ani+expert+and+polit+power+which+would+help+in+the+function+of+the+state+affair+smooth+.+up+until+then+,+the+1935+govern+of+india+act+was+basic+modifi+in+order+to+govern+,+howev+,+that+act+was+more+bent+toward+the+coloni+rule+.+therefor+,+there+was+a+dire+need+to+form+an+exclus+constitut+that+would+reflect+all+that+india+stand+for+.+thus+,+dr.+b.r+.+ambedkar+led+a+constitut+draft+committe+on+august+28+,+1947+.+after+draft+,+it+was+present+to+the+constitu+assembl+by+the+same+committe+on+novemb+4+,+1947+.+this+whole+procedur+was+veri+elabor+and+took+up+to+166+day+to+complet+.+moreov+,+the+committe+organ+session+were+kept+open+to+the+public+.+no+matter+the+challeng+and+hardship+,+our+constitut+committe+left+no+stone+unturn+to+includ+right+for+all+.+it+aim+to+creat+the+perfect+balanc+so+all+citizen+of+the+countri+could+enjoy+equal+right+pertain+to+their+religion+,+cultur+,+cast+,+sex+,+creed+and+more+.+at+last+,+they+present+the+offici+indian+constitut+to+the+countri+on+januari+26+,+1950+.+moreov+,+the+first+session+of+the+india+parliament+was+also+conduct+on+this+day+.+in+addit+to+that+,+26th+januari+also+wit+the+swearing-in+of+indiaâ€™+first+presid+,+dr.+rajendra+prasad+.+thus+,+this+day+is+veri+import+as+it+mark+the+end+of+the+british+rule+and+birth+of+india+as+a+republ+state+.+get+the+huge+list+of+more+than+500+essay+topic+and+idea+republ+day+celebr+indian+celebr+januari+26+each+year+with+lot+of+enthusiasm+and+zeal+.+on+this+day+,+peopl+forget+their+religion+,+cast+,+creed+,+sex+,+and+more+.+it+bring+togeth+the+countri+as+a+whole+.+it+truli+show+the+divers+of+our+countri+.+the+capit+citi+of+india+,+new+delhi+,+celebr+it+with+a+republ+day+parad+that+showcas+the+might+of+the+indian+militari+and+the+cultur+divers+of+our+countri+.+these+parad+take+place+in+other+citi+as+well+,+where+a+lot+of+school+particip+in+.+it+is+a+delight+to+watch+the+children+and+profession+put+in+so+much+effort+.+the+way+they+grace+the+parad+make+one+proud+of+their+countri+.+we+also+do+nation+flag+hoist+on+this+day+.+in+new+delhi+,+after+the+presid+of+india+hoist+our+nation+flag+,+21+gun+salut+follow+it+with+the+nation+anthem+play+by+the+militari+band+.+further+,+in+school+,+march+past+take+place+and+it+is+mandatori+for+everi+student+to+attend+the+celebr+.+in+mani+school+,+they+distribut+sweet+on+this+day+as+well+.+while+it+is+a+veri+joyous+day+,+we+must+not+forget+the+struggl+of+freedom+that+our+forefath+took+part+in+.+moreov+,+it+is+a+day+to+celebr+the+spirit+of+freedom+and+make+sure+to+help+india+reach+greater+height+in+the+futur+.\n"
     ]
    },
    {
     "name": "stderr",
     "output_type": "stream",
     "text": [
      "[nltk_data] Downloading package punkt to\n",
      "[nltk_data]     C:\\Users\\likhi\\AppData\\Roaming\\nltk_data...\n",
      "[nltk_data]   Package punkt is already up-to-date!\n"
     ]
    }
   ],
   "source": [
    "import nltk\n",
    "nltk.download('punkt')\n",
    "\n",
    "from nltk.tokenize import word_tokenize\n",
    "from nltk.stem import SnowballStemmer\n",
    "\n",
    "def stemming(text):\n",
    "    snowball = SnowballStemmer(language='english')\n",
    "    stem_list = []\n",
    "    for token in word_tokenize(text):\n",
    "        stem_list.append(snowball.stem(token))\n",
    "\n",
    "    return '+'.join(stem_list)\n",
    "\n",
    "with open('text_file.txt') as f:\n",
    "    text = f.read()\n",
    "\n",
    "print(stemming(text))\n"
   ]
  }
 ],
 "metadata": {
  "kernelspec": {
   "display_name": "Python 3",
   "language": "python",
   "name": "python3"
  },
  "language_info": {
   "codemirror_mode": {
    "name": "ipython",
    "version": 3
   },
   "file_extension": ".py",
   "mimetype": "text/x-python",
   "name": "python",
   "nbconvert_exporter": "python",
   "pygments_lexer": "ipython3",
   "version": "3.11.9"
  }
 },
 "nbformat": 4,
 "nbformat_minor": 2
}
